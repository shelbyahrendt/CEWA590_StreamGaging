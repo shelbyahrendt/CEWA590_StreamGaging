{
 "cells": [
  {
   "cell_type": "markdown",
   "id": "c19820f1-aea2-4072-8adf-ecb34d2a4a3b",
   "metadata": {},
   "source": [
    "## Web-Scraping Streamgaging Measurement Data\n",
    "\n",
    "This notebook demonstrates how to access the USGS streamgaging data from the [NWIS server](https://waterdata.usgs.gov/nwis) using python and pandas\n"
   ]
  },
  {
   "cell_type": "code",
   "execution_count": 1,
   "id": "2147a0b3-1b4c-45c6-852b-011e8b0eb9e5",
   "metadata": {},
   "outputs": [],
   "source": [
    "import pandas as pd\n",
    "import matplotlib.pyplot as plt"
   ]
  },
  {
   "cell_type": "markdown",
   "id": "60c29e65-02df-4ea5-8574-6b18d4f9d046",
   "metadata": {},
   "source": [
    "The following function will import the field measurement data for a specified USGS 'gageno' (Here is a list of [all Washington State gaging sites](https://waterdata.usgs.gov/nwis/measurements?state_cd=wa&format=station_list&group_key=NONE&set_logscale_y=1&channel_html_info=0&date_format=YYYY-MM-DD&channel_rdb_info=0&rdb_compression=file&list_of_search_criteria=state_cd))"
   ]
  },
  {
   "cell_type": "code",
   "execution_count": 2,
   "id": "1f1af708-7967-4b3a-b821-92527641483b",
   "metadata": {},
   "outputs": [],
   "source": [
    "def import_and_save_USGS_measurement_data(gageno):                     \n",
    "    #USGS Measurement data URL and column names for data link\n",
    "    url = 'https://waterdata.usgs.gov/nwis/measurements?site_no='+gageno+'&agency_cd=USGS&format=rdb_expanded'\n",
    "    column_names = ['agency_cd', 'site_no', 'measurement_nu', 'measurement_dt',\n",
    "                    'tz_cd','q_meas_used_fg', 'party_nm',\n",
    "                    'site_visit_coll_agency_cd', 'gage_height_va',\n",
    "                    'discharge_va', 'measured_rating_diff', 'gage_va_change',\n",
    "                    'gage_va_time','control_type_cd', 'discharge_cd','chan_nu',\n",
    "                    'chan_name', 'meas_type', 'streamflow_method',\n",
    "                    'velocity_method', 'chan_discharge', 'chan_width',\n",
    "                    'chan_area','chan_velocity', 'chan_stability',\n",
    "                    'chan_material', 'chan_evenness', 'long_vel_desc',\n",
    "                    'horz_vel_desc', 'vert_vel_desc', 'chan_loc_cd',\n",
    "                    'chan_loc_dist'] \n",
    "    \n",
    "    #Import site data\n",
    "    measdata = pd.read_csv(url, header=1, sep='\\t', comment='#', \n",
    "                           names = column_names)  \n",
    "    measdata.to_csv(r'USGS_gageno_%s_measurement_data.csv' \n",
    "                    %(gageno))"
   ]
  },
  {
   "cell_type": "markdown",
   "id": "78560ede-be8a-4a21-923c-75a2161f2471",
   "metadata": {},
   "source": [
    "Here we will import USGS gage number 122013100 corresponding to the [Nooksack at Ferndale site](https://waterdata.usgs.gov/nwis/measurements/?site_no=12213100). After running this code block, you should see a `.csv` file downloaded to your local directory."
   ]
  },
  {
   "cell_type": "code",
   "execution_count": 3,
   "id": "014dbd00-ab92-4d3c-b6e4-0e06a3130d13",
   "metadata": {},
   "outputs": [],
   "source": [
    "USGS_gageno = '12213100'\n",
    "import_and_save_USGS_measurement_data(USGS_gageno)"
   ]
  },
  {
   "cell_type": "markdown",
   "id": "bf39fb3a-2304-491b-a33a-ad6de125a4bf",
   "metadata": {},
   "source": [
    "Load this data"
   ]
  },
  {
   "cell_type": "code",
   "execution_count": 4,
   "id": "760d0571-9c56-43ae-ba0a-2c307013818c",
   "metadata": {},
   "outputs": [],
   "source": [
    "meas_data = pd.read_csv(r'USGS_gageno_%s_measurement_data.csv'%(USGS_gageno))"
   ]
  },
  {
   "cell_type": "code",
   "execution_count": 5,
   "id": "047cbe6a-189f-4c91-9917-4961aa5f70b2",
   "metadata": {},
   "outputs": [
    {
     "data": {
      "text/html": [
       "<div>\n",
       "<style scoped>\n",
       "    .dataframe tbody tr th:only-of-type {\n",
       "        vertical-align: middle;\n",
       "    }\n",
       "\n",
       "    .dataframe tbody tr th {\n",
       "        vertical-align: top;\n",
       "    }\n",
       "\n",
       "    .dataframe thead th {\n",
       "        text-align: right;\n",
       "    }\n",
       "</style>\n",
       "<table border=\"1\" class=\"dataframe\">\n",
       "  <thead>\n",
       "    <tr style=\"text-align: right;\">\n",
       "      <th></th>\n",
       "      <th>Unnamed: 0</th>\n",
       "      <th>agency_cd</th>\n",
       "      <th>site_no</th>\n",
       "      <th>measurement_nu</th>\n",
       "      <th>measurement_dt</th>\n",
       "      <th>tz_cd</th>\n",
       "      <th>q_meas_used_fg</th>\n",
       "      <th>party_nm</th>\n",
       "      <th>site_visit_coll_agency_cd</th>\n",
       "      <th>gage_height_va</th>\n",
       "      <th>...</th>\n",
       "      <th>chan_area</th>\n",
       "      <th>chan_velocity</th>\n",
       "      <th>chan_stability</th>\n",
       "      <th>chan_material</th>\n",
       "      <th>chan_evenness</th>\n",
       "      <th>long_vel_desc</th>\n",
       "      <th>horz_vel_desc</th>\n",
       "      <th>vert_vel_desc</th>\n",
       "      <th>chan_loc_cd</th>\n",
       "      <th>chan_loc_dist</th>\n",
       "    </tr>\n",
       "  </thead>\n",
       "  <tbody>\n",
       "    <tr>\n",
       "      <th>0</th>\n",
       "      <td>0</td>\n",
       "      <td>USGS</td>\n",
       "      <td>12213100</td>\n",
       "      <td>1</td>\n",
       "      <td>1966-11-10</td>\n",
       "      <td>NaN</td>\n",
       "      <td>Yes</td>\n",
       "      <td>JC</td>\n",
       "      <td>USGS</td>\n",
       "      <td>4.95</td>\n",
       "      <td>...</td>\n",
       "      <td>NaN</td>\n",
       "      <td>NaN</td>\n",
       "      <td>UNSP</td>\n",
       "      <td>UNSP</td>\n",
       "      <td>UNSP</td>\n",
       "      <td>unkn</td>\n",
       "      <td>UNSP</td>\n",
       "      <td>UNSP</td>\n",
       "      <td>UNSP</td>\n",
       "      <td>NaN</td>\n",
       "    </tr>\n",
       "    <tr>\n",
       "      <th>1</th>\n",
       "      <td>1</td>\n",
       "      <td>USGS</td>\n",
       "      <td>12213100</td>\n",
       "      <td>2</td>\n",
       "      <td>1966-11-23</td>\n",
       "      <td>NaN</td>\n",
       "      <td>Yes</td>\n",
       "      <td>JC</td>\n",
       "      <td>USGS</td>\n",
       "      <td>5.59</td>\n",
       "      <td>...</td>\n",
       "      <td>NaN</td>\n",
       "      <td>NaN</td>\n",
       "      <td>UNSP</td>\n",
       "      <td>UNSP</td>\n",
       "      <td>UNSP</td>\n",
       "      <td>unkn</td>\n",
       "      <td>UNSP</td>\n",
       "      <td>UNSP</td>\n",
       "      <td>UNSP</td>\n",
       "      <td>NaN</td>\n",
       "    </tr>\n",
       "    <tr>\n",
       "      <th>2</th>\n",
       "      <td>2</td>\n",
       "      <td>USGS</td>\n",
       "      <td>12213100</td>\n",
       "      <td>3</td>\n",
       "      <td>1966-12-13</td>\n",
       "      <td>NaN</td>\n",
       "      <td>Yes</td>\n",
       "      <td>T H</td>\n",
       "      <td>USGS</td>\n",
       "      <td>14.40</td>\n",
       "      <td>...</td>\n",
       "      <td>NaN</td>\n",
       "      <td>NaN</td>\n",
       "      <td>UNSP</td>\n",
       "      <td>UNSP</td>\n",
       "      <td>UNSP</td>\n",
       "      <td>unkn</td>\n",
       "      <td>UNSP</td>\n",
       "      <td>UNSP</td>\n",
       "      <td>UNSP</td>\n",
       "      <td>NaN</td>\n",
       "    </tr>\n",
       "    <tr>\n",
       "      <th>3</th>\n",
       "      <td>3</td>\n",
       "      <td>USGS</td>\n",
       "      <td>12213100</td>\n",
       "      <td>4</td>\n",
       "      <td>1966-12-14</td>\n",
       "      <td>NaN</td>\n",
       "      <td>Yes</td>\n",
       "      <td>RQ</td>\n",
       "      <td>USGS</td>\n",
       "      <td>16.46</td>\n",
       "      <td>...</td>\n",
       "      <td>NaN</td>\n",
       "      <td>NaN</td>\n",
       "      <td>UNSP</td>\n",
       "      <td>UNSP</td>\n",
       "      <td>UNSP</td>\n",
       "      <td>unkn</td>\n",
       "      <td>UNSP</td>\n",
       "      <td>UNSP</td>\n",
       "      <td>UNSP</td>\n",
       "      <td>NaN</td>\n",
       "    </tr>\n",
       "    <tr>\n",
       "      <th>4</th>\n",
       "      <td>4</td>\n",
       "      <td>USGS</td>\n",
       "      <td>12213100</td>\n",
       "      <td>5</td>\n",
       "      <td>1966-12-28</td>\n",
       "      <td>NaN</td>\n",
       "      <td>Yes</td>\n",
       "      <td>RQ</td>\n",
       "      <td>USGS</td>\n",
       "      <td>6.74</td>\n",
       "      <td>...</td>\n",
       "      <td>NaN</td>\n",
       "      <td>NaN</td>\n",
       "      <td>UNSP</td>\n",
       "      <td>UNSP</td>\n",
       "      <td>UNSP</td>\n",
       "      <td>unkn</td>\n",
       "      <td>UNSP</td>\n",
       "      <td>UNSP</td>\n",
       "      <td>UNSP</td>\n",
       "      <td>NaN</td>\n",
       "    </tr>\n",
       "  </tbody>\n",
       "</table>\n",
       "<p>5 rows × 33 columns</p>\n",
       "</div>"
      ],
      "text/plain": [
       "   Unnamed: 0 agency_cd   site_no  measurement_nu measurement_dt tz_cd  \\\n",
       "0           0      USGS  12213100               1     1966-11-10   NaN   \n",
       "1           1      USGS  12213100               2     1966-11-23   NaN   \n",
       "2           2      USGS  12213100               3     1966-12-13   NaN   \n",
       "3           3      USGS  12213100               4     1966-12-14   NaN   \n",
       "4           4      USGS  12213100               5     1966-12-28   NaN   \n",
       "\n",
       "  q_meas_used_fg party_nm site_visit_coll_agency_cd  gage_height_va  ...  \\\n",
       "0            Yes       JC                      USGS            4.95  ...   \n",
       "1            Yes       JC                      USGS            5.59  ...   \n",
       "2            Yes      T H                      USGS           14.40  ...   \n",
       "3            Yes       RQ                      USGS           16.46  ...   \n",
       "4            Yes       RQ                      USGS            6.74  ...   \n",
       "\n",
       "   chan_area chan_velocity  chan_stability  chan_material chan_evenness  \\\n",
       "0        NaN           NaN            UNSP           UNSP          UNSP   \n",
       "1        NaN           NaN            UNSP           UNSP          UNSP   \n",
       "2        NaN           NaN            UNSP           UNSP          UNSP   \n",
       "3        NaN           NaN            UNSP           UNSP          UNSP   \n",
       "4        NaN           NaN            UNSP           UNSP          UNSP   \n",
       "\n",
       "  long_vel_desc  horz_vel_desc vert_vel_desc chan_loc_cd chan_loc_dist  \n",
       "0          unkn           UNSP          UNSP        UNSP           NaN  \n",
       "1          unkn           UNSP          UNSP        UNSP           NaN  \n",
       "2          unkn           UNSP          UNSP        UNSP           NaN  \n",
       "3          unkn           UNSP          UNSP        UNSP           NaN  \n",
       "4          unkn           UNSP          UNSP        UNSP           NaN  \n",
       "\n",
       "[5 rows x 33 columns]"
      ]
     },
     "execution_count": 5,
     "metadata": {},
     "output_type": "execute_result"
    }
   ],
   "source": [
    "meas_data.head()"
   ]
  },
  {
   "cell_type": "markdown",
   "id": "7b37d6a0-f658-4a11-9fe9-b949a4c57b77",
   "metadata": {},
   "source": [
    "Convert the date measurements into a datetime object"
   ]
  },
  {
   "cell_type": "code",
   "execution_count": 6,
   "id": "8233e7fd-0e8c-4e85-8088-4896c89e7ee8",
   "metadata": {},
   "outputs": [],
   "source": [
    "meas_data['DateTime'] = pd.to_datetime(meas_data.measurement_dt)"
   ]
  },
  {
   "cell_type": "markdown",
   "id": "0fe72ee0-9080-429c-b790-ee8355b6c65b",
   "metadata": {},
   "source": [
    "Convert feet to meters:"
   ]
  },
  {
   "cell_type": "code",
   "execution_count": 7,
   "id": "c24d4e51-0e52-4de4-8a16-0e16ec7ea014",
   "metadata": {},
   "outputs": [],
   "source": [
    "fttom = 0.3048\n",
    "\n",
    "meas_data['gage_height_m'] = meas_data['gage_height_va']*fttom\n",
    "meas_data['discharge_cms'] = meas_data['discharge_va']*(fttom**3)"
   ]
  },
  {
   "cell_type": "markdown",
   "id": "8c19ad4d-cef0-43b4-88cb-d4cee946a9de",
   "metadata": {},
   "source": [
    "Plot the field measurement stage and discharge measurements. Points are colored by the year the measurement was obtained to visualize prospective shifts over time"
   ]
  },
  {
   "cell_type": "code",
   "execution_count": 8,
   "id": "34610849-a22b-4773-ba57-23e2064ce39e",
   "metadata": {},
   "outputs": [
    {
     "data": {
      "text/plain": [
       "Text(0.5, 1.0, 'Measurement Data (Gage #: 12213100)')"
      ]
     },
     "execution_count": 8,
     "metadata": {},
     "output_type": "execute_result"
    },
    {
     "data": {
      "image/png": "[encoded data removed]",
      "text/plain": [
       "<Figure size 432x288 with 2 Axes>"
      ]
     },
     "metadata": {
      "needs_background": "light"
     },
     "output_type": "display_data"
    }
   ],
   "source": [
    "f, ax = plt.subplots()\n",
    "pts=ax.scatter(\n",
    "    meas_data.gage_height_m,\n",
    "    meas_data.discharge_cms,\n",
    "    c=meas_data.DateTime.dt.year,\n",
    ")\n",
    "plt.colorbar(pts, label='Year of Measurement')\n",
    "ax.set_xlabel('gage height (m)')\n",
    "ax.set_ylabel(r'discharge $(m^3/s)$')\n",
    "ax.set_title('Measurement Data (Gage #: %s)'%USGS_gageno)"
   ]
  },
  {
   "cell_type": "code",
   "execution_count": 9,
   "id": "d3a8adf3-b410-436b-b7dc-4901c78d03e9",
   "metadata": {},
   "outputs": [],
   "source": [
    "def import_and_save_current_USGS_rating(gageno):\n",
    "    url = 'https://waterdata.usgs.gov/nwisweb/get_ratings?site_no=' + gageno + '&file_type=exsa'\n",
    "    column_names = ['H (ft)', 'SHIFT', 'Q (cfs)', 'STOR']\n",
    "    curvedata = pd.read_csv(url, header=1, sep='\\t', comment='#', names = column_names)\n",
    "    curvedata.to_csv(r'USGS_gageno_%s_current_rating.csv' \n",
    "                    %(gageno))    "
   ]
  },
  {
   "cell_type": "code",
   "execution_count": 10,
   "id": "e387af97-4085-4086-9603-c60c91394b5d",
   "metadata": {},
   "outputs": [],
   "source": [
    "import_and_save_current_USGS_rating(USGS_gageno)"
   ]
  },
  {
   "cell_type": "code",
   "execution_count": 11,
   "id": "35ca9b35-e0c0-4ff3-b73d-3a6035dad913",
   "metadata": {},
   "outputs": [],
   "source": [
    "curve_data = pd.read_csv(r'USGS_gageno_%s_current_rating.csv'%(USGS_gageno))"
   ]
  },
  {
   "cell_type": "code",
   "execution_count": 12,
   "id": "929df07b-7054-4350-a35d-de387e56477d",
   "metadata": {},
   "outputs": [
    {
     "data": {
      "text/html": [
       "<div>\n",
       "<style scoped>\n",
       "    .dataframe tbody tr th:only-of-type {\n",
       "        vertical-align: middle;\n",
       "    }\n",
       "\n",
       "    .dataframe tbody tr th {\n",
       "        vertical-align: top;\n",
       "    }\n",
       "\n",
       "    .dataframe thead th {\n",
       "        text-align: right;\n",
       "    }\n",
       "</style>\n",
       "<table border=\"1\" class=\"dataframe\">\n",
       "  <thead>\n",
       "    <tr style=\"text-align: right;\">\n",
       "      <th></th>\n",
       "      <th>Unnamed: 0</th>\n",
       "      <th>H (ft)</th>\n",
       "      <th>SHIFT</th>\n",
       "      <th>Q (cfs)</th>\n",
       "      <th>STOR</th>\n",
       "    </tr>\n",
       "  </thead>\n",
       "  <tbody>\n",
       "    <tr>\n",
       "      <th>0</th>\n",
       "      <td>0</td>\n",
       "      <td>2.75</td>\n",
       "      <td>0.0</td>\n",
       "      <td>297.00</td>\n",
       "      <td>*</td>\n",
       "    </tr>\n",
       "    <tr>\n",
       "      <th>1</th>\n",
       "      <td>1</td>\n",
       "      <td>2.76</td>\n",
       "      <td>0.0</td>\n",
       "      <td>301.31</td>\n",
       "      <td>NaN</td>\n",
       "    </tr>\n",
       "    <tr>\n",
       "      <th>2</th>\n",
       "      <td>2</td>\n",
       "      <td>2.77</td>\n",
       "      <td>0.0</td>\n",
       "      <td>305.65</td>\n",
       "      <td>NaN</td>\n",
       "    </tr>\n",
       "    <tr>\n",
       "      <th>3</th>\n",
       "      <td>3</td>\n",
       "      <td>2.78</td>\n",
       "      <td>0.0</td>\n",
       "      <td>310.02</td>\n",
       "      <td>NaN</td>\n",
       "    </tr>\n",
       "    <tr>\n",
       "      <th>4</th>\n",
       "      <td>4</td>\n",
       "      <td>2.79</td>\n",
       "      <td>0.0</td>\n",
       "      <td>314.41</td>\n",
       "      <td>NaN</td>\n",
       "    </tr>\n",
       "  </tbody>\n",
       "</table>\n",
       "</div>"
      ],
      "text/plain": [
       "   Unnamed: 0  H (ft)  SHIFT  Q (cfs) STOR\n",
       "0           0    2.75    0.0   297.00    *\n",
       "1           1    2.76    0.0   301.31  NaN\n",
       "2           2    2.77    0.0   305.65  NaN\n",
       "3           3    2.78    0.0   310.02  NaN\n",
       "4           4    2.79    0.0   314.41  NaN"
      ]
     },
     "execution_count": 12,
     "metadata": {},
     "output_type": "execute_result"
    }
   ],
   "source": [
    "curve_data.head()"
   ]
  },
  {
   "cell_type": "code",
   "execution_count": 13,
   "id": "149efcb3-2208-40a2-87ad-bbb748c1f196",
   "metadata": {
    "tags": []
   },
   "outputs": [
    {
     "data": {
      "text/plain": [
       "Text(0.5, 1.0, 'Measurement Data & Rating (Gage #: 12213100)')"
      ]
     },
     "execution_count": 13,
     "metadata": {},
     "output_type": "execute_result"
    },
    {
     "data": {
      "image/png": "[encoded data removed]",
      "text/plain": [
       "<Figure size 432x288 with 2 Axes>"
      ]
     },
     "metadata": {
      "needs_background": "light"
     },
     "output_type": "display_data"
    }
   ],
   "source": [
    "f, ax = plt.subplots()\n",
    "pts=ax.scatter(\n",
    "    meas_data.gage_height_m[meas_data.gage_height_m < 40],\n",
    "    meas_data.discharge_cms[meas_data.gage_height_m < 40],\n",
    "    c=meas_data.DateTime.dt.year[meas_data.gage_height_m < 40],\n",
    "    label='field data',\n",
    ")\n",
    "ax.plot(\n",
    "    curve_data['H (ft)']*fttom,\n",
    "    curve_data['Q (cfs)']*fttom**3,\n",
    "    label='current USGS rating',\n",
    ")\n",
    "ax.legend()        \n",
    "plt.colorbar(pts, label='Year of Measurement')\n",
    "ax.set_xlabel('gage height (m)')\n",
    "ax.set_ylabel(r'discharge $(m^3/s)$')\n",
    "ax.set_title('Measurement Data & Rating (Gage #: %s)'%USGS_gageno)"
   ]
  },
  {
   "cell_type": "code",
   "execution_count": null,
   "id": "734cad78-ef93-49c5-b05e-89874ee16f55",
   "metadata": {},
   "outputs": [],
   "source": []
  }
 ],
 "metadata": {
  "kernelspec": {
   "display_name": "Python 3 (ipykernel)",
   "language": "python",
   "name": "python3"
  },
  "language_info": {
   "codemirror_mode": {
    "name": "ipython",
    "version": 3
   },
   "file_extension": ".py",
   "mimetype": "text/x-python",
   "name": "python",
   "nbconvert_exporter": "python",
   "pygments_lexer": "ipython3",
   "version": "3.10.4"
  }
 },
 "nbformat": 4,
 "nbformat_minor": 5
}
