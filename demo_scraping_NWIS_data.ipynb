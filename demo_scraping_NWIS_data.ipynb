{
 "cells": [
  {
   "cell_type": "markdown",
   "id": "c19820f1-aea2-4072-8adf-ecb34d2a4a3b",
   "metadata": {},
   "source": [
    "## Web-Scraping Streamgaging Measurement Data\n",
    "\n",
    "This notebook demonstrates how to access the USGS streamgaging data from the [NWIS server](https://waterdata.usgs.gov/nwis) using python and pandas\n"
   ]
  },
  {
   "cell_type": "code",
   "execution_count": 1,
   "id": "2147a0b3-1b4c-45c6-852b-011e8b0eb9e5",
   "metadata": {},
   "outputs": [],
   "source": [
    "import pandas as pd\n",
    "import matplotlib.pyplot as plt"
   ]
  },
  {
   "cell_type": "markdown",
   "id": "60c29e65-02df-4ea5-8574-6b18d4f9d046",
   "metadata": {},
   "source": [
    "The following function will import the field measurement data for a specified USGS 'gageno' (Here is a list of [all Washington State gaging sites](https://waterdata.usgs.gov/nwis/measurements?state_cd=wa&format=station_list&group_key=NONE&set_logscale_y=1&channel_html_info=0&date_format=YYYY-MM-DD&channel_rdb_info=0&rdb_compression=file&list_of_search_criteria=state_cd))"
   ]
  },
  {
   "cell_type": "code",
   "execution_count": 2,
   "id": "1f1af708-7967-4b3a-b821-92527641483b",
   "metadata": {},
   "outputs": [],
   "source": [
    "def import_and_save_USGS_measurement_data(gageno):                     \n",
    "    #USGS Measurement data URL and column names for data link\n",
    "    url = 'https://waterdata.usgs.gov/nwis/measurements?site_no='+gageno+'&agency_cd=USGS&format=rdb_expanded'\n",
    "    column_names = ['agency_cd', 'site_no', 'measurement_nu', 'measurement_dt',\n",
    "                    'tz_cd','q_meas_used_fg', 'party_nm',\n",
    "                    'site_visit_coll_agency_cd', 'gage_height_va',\n",
    "                    'discharge_va', 'measured_rating_diff', 'gage_va_change',\n",
    "                    'gage_va_time','control_type_cd', 'discharge_cd','chan_nu',\n",
    "                    'chan_name', 'meas_type', 'streamflow_method',\n",
    "                    'velocity_method', 'chan_discharge', 'chan_width',\n",
    "                    'chan_area','chan_velocity', 'chan_stability',\n",
    "                    'chan_material', 'chan_evenness', 'long_vel_desc',\n",
    "                    'horz_vel_desc', 'vert_vel_desc', 'chan_loc_cd',\n",
    "                    'chan_loc_dist'] \n",
    "    \n",
    "    #Import site data\n",
    "    measdata = pd.read_csv(url, header=1, sep='\\t', comment='#', \n",
    "                           names = column_names)  \n",
    "    measdata.to_csv(r'USGS_gageno_%s_measurement_data.csv' \n",
    "                    %(gageno))"
   ]
  },
  {
   "cell_type": "markdown",
   "id": "78560ede-be8a-4a21-923c-75a2161f2471",
   "metadata": {},
   "source": [
    "Here we will import USGS gage number 122013100 corresponding to the [Nooksack at Ferndale site](https://waterdata.usgs.gov/nwis/measurements/?site_no=12213100). After running this code block, you should see a `.csv` file downloaded to your local directory."
   ]
  },
  {
   "cell_type": "code",
   "execution_count": 3,
   "id": "014dbd00-ab92-4d3c-b6e4-0e06a3130d13",
   "metadata": {},
   "outputs": [],
   "source": [
    "USGS_gageno = '12213100'\n",
    "import_and_save_USGS_measurement_data(USGS_gageno)"
   ]
  },
  {
   "cell_type": "markdown",
   "id": "bf39fb3a-2304-491b-a33a-ad6de125a4bf",
   "metadata": {},
   "source": [
    "Load this data"
   ]
  },
  {
   "cell_type": "code",
   "execution_count": 4,
   "id": "760d0571-9c56-43ae-ba0a-2c307013818c",
   "metadata": {},
   "outputs": [],
   "source": [
    "meas_data = pd.read_csv(r'USGS_gageno_%s_measurement_data.csv'%(USGS_gageno))"
   ]
  },
  {
   "cell_type": "markdown",
   "id": "7b37d6a0-f658-4a11-9fe9-b949a4c57b77",
   "metadata": {},
   "source": [
    "Convert the date measurements into a datetime object"
   ]
  },
  {
   "cell_type": "code",
   "execution_count": 5,
   "id": "8233e7fd-0e8c-4e85-8088-4896c89e7ee8",
   "metadata": {},
   "outputs": [],
   "source": [
    "meas_data['DateTime'] = pd.to_datetime(meas_data.measurement_dt)"
   ]
  },
  {
   "cell_type": "markdown",
   "id": "0fe72ee0-9080-429c-b790-ee8355b6c65b",
   "metadata": {},
   "source": [
    "Convert feet to meters:"
   ]
  },
  {
   "cell_type": "code",
   "execution_count": 8,
   "id": "c24d4e51-0e52-4de4-8a16-0e16ec7ea014",
   "metadata": {},
   "outputs": [],
   "source": [
    "fttom = 0.3048\n",
    "\n",
    "meas_data['gage_height_m'] = meas_data['gage_height_va']*fttom\n",
    "meas_data['discharge_cms'] = meas_data['discharge_va']*(fttom**3)"
   ]
  },
  {
   "cell_type": "markdown",
   "id": "8c19ad4d-cef0-43b4-88cb-d4cee946a9de",
   "metadata": {},
   "source": [
    "Plot the field measurement stage and discharge measurements. Points are colored by the year the measurement was obtained to visualize prospective shifts over time"
   ]
  },
  {
   "cell_type": "code",
   "execution_count": 7,
   "id": "34610849-a22b-4773-ba57-23e2064ce39e",
   "metadata": {},
   "outputs": [
    {
     "data": {
      "text/plain": [
       "Text(0.5, 1.0, 'Measurement Data (Gage #: 12213100)')"
      ]
     },
     "execution_count": 7,
     "metadata": {},
     "output_type": "execute_result"
    },
    {
     "data": {
      "image/png": "[encoded data removed]",
      "text/plain": [
       "<Figure size 432x288 with 2 Axes>"
      ]
     },
     "metadata": {
      "needs_background": "light"
     },
     "output_type": "display_data"
    }
   ],
   "source": [
    "f, ax = plt.subplots()\n",
    "pts=ax.scatter(\n",
    "    meas_data.gage_height_m,\n",
    "    meas_data.discharge_cms,\n",
    "    c=meas_data.DateTime.dt.year,\n",
    ")\n",
    "plt.colorbar(pts, label='Year of Measurement')\n",
    "ax.set_xlabel('gage height (m)')\n",
    "ax.set_ylabel(r'discharge $(m^3/s)$')\n",
    "ax.set_title('Measurement Data (Gage #: %s)'%USGS_gageno)"
   ]
  }
 ],
 "metadata": {
  "kernelspec": {
   "display_name": "Python 3 (ipykernel)",
   "language": "python",
   "name": "python3"
  },
  "language_info": {
   "codemirror_mode": {
    "name": "ipython",
    "version": 3
   },
   "file_extension": ".py",
   "mimetype": "text/x-python",
   "name": "python",
   "nbconvert_exporter": "python",
   "pygments_lexer": "ipython3",
   "version": "3.10.4"
  }
 },
 "nbformat": 4,
 "nbformat_minor": 5
}
